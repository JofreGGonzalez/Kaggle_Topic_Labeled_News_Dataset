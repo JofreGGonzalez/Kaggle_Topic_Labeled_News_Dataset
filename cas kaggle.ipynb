{
 "cells": [
  {
   "cell_type": "markdown",
   "id": "8bdd80b8",
   "metadata": {},
   "source": [
    "### Cas Kaggke: Topic Labeled News Dataset"
   ]
  },
  {
   "cell_type": "markdown",
   "id": "b90104c1",
   "metadata": {},
   "source": [
    "En aquest document veurem, analitzarem i compararem un recommenador d'articles."
   ]
  },
  {
   "cell_type": "markdown",
   "id": "b7e3218a",
   "metadata": {},
   "source": [
    "La base de dades de kaggle utilitzada és la de \"Topic Labeled News Dataset\". A continucació començarem veient i analitzant el dataset."
   ]
  },
  {
   "cell_type": "code",
   "execution_count": 33,
   "id": "015672e7",
   "metadata": {},
   "outputs": [],
   "source": [
    "# Importem llibreries\n",
    "import ipywidgets as widgets\n",
    "from sklearn.datasets import make_regression\n",
    "import numpy as np\n",
    "import pandas as pd\n",
    "%matplotlib notebook\n",
    "from matplotlib import pyplot as plt\n",
    "import scipy.stats\n",
    "import seaborn as sns\n",
    "from sklearn.linear_model import LinearRegression\n",
    "from sklearn.metrics import r2_score\n",
    "import numpy as np #importem la llibreria\n",
    "import random\n",
    "\n",
    "from gensim.parsing.preprocessing import remove_stopwords\n",
    "from sklearn.model_selection import train_test_split\n",
    "from sklearn.feature_extraction.text import CountVectorizer\n",
    "from sklearn.feature_extraction.text import TfidfTransformer\n",
    "from sklearn.naive_bayes import MultinomialNB"
   ]
  },
  {
   "cell_type": "code",
   "execution_count": 34,
   "id": "1c3ee358",
   "metadata": {},
   "outputs": [],
   "source": [
    "# Visualitzarem només 3 decimals per mostra en les taules\n",
    "#pd.set_option('display.float_format', lambda x: '%.3f' % x)\n",
    "\n",
    "# Funcio per a llegir dades en format csv\n",
    "def load_dataset(path):\n",
    "    dataset = pd.read_csv(path,sep = None,engine='python')\n",
    "    return dataset\n",
    "\n",
    "# Carreguem dataset asignat\n",
    "dataset = load_dataset('labelled_newscatcher_dataset.csv')\n",
    "data = dataset.values"
   ]
  },
  {
   "cell_type": "code",
   "execution_count": 35,
   "id": "a945e614",
   "metadata": {},
   "outputs": [
    {
     "name": "stdout",
     "output_type": "stream",
     "text": [
      "topic             object\n",
      "link              object\n",
      "domain            object\n",
      "published_date    object\n",
      "title             object\n",
      "lang              object\n",
      "dtype: object\n"
     ]
    }
   ],
   "source": [
    "print(dataset.dtypes)"
   ]
  },
  {
   "cell_type": "code",
   "execution_count": 36,
   "id": "7dcb0a48",
   "metadata": {},
   "outputs": [
    {
     "name": "stdout",
     "output_type": "stream",
     "text": [
      "topic             0\n",
      "link              0\n",
      "domain            0\n",
      "published_date    0\n",
      "title             0\n",
      "lang              0\n",
      "dtype: int64\n"
     ]
    }
   ],
   "source": [
    "print(dataset.isnull().sum())"
   ]
  },
  {
   "cell_type": "code",
   "execution_count": 37,
   "id": "f49e294d",
   "metadata": {},
   "outputs": [
    {
     "data": {
      "text/html": [
       "<div>\n",
       "<style scoped>\n",
       "    .dataframe tbody tr th:only-of-type {\n",
       "        vertical-align: middle;\n",
       "    }\n",
       "\n",
       "    .dataframe tbody tr th {\n",
       "        vertical-align: top;\n",
       "    }\n",
       "\n",
       "    .dataframe thead th {\n",
       "        text-align: right;\n",
       "    }\n",
       "</style>\n",
       "<table border=\"1\" class=\"dataframe\">\n",
       "  <thead>\n",
       "    <tr style=\"text-align: right;\">\n",
       "      <th></th>\n",
       "      <th>topic</th>\n",
       "      <th>link</th>\n",
       "      <th>domain</th>\n",
       "      <th>published_date</th>\n",
       "      <th>title</th>\n",
       "      <th>lang</th>\n",
       "    </tr>\n",
       "  </thead>\n",
       "  <tbody>\n",
       "    <tr>\n",
       "      <th>0</th>\n",
       "      <td>SCIENCE</td>\n",
       "      <td>https://www.eurekalert.org/pub_releases/2020-0...</td>\n",
       "      <td>eurekalert.org</td>\n",
       "      <td>2020-08-06 13:59:45</td>\n",
       "      <td>A closer look at water-splitting's solar fuel ...</td>\n",
       "      <td>en</td>\n",
       "    </tr>\n",
       "    <tr>\n",
       "      <th>1</th>\n",
       "      <td>SCIENCE</td>\n",
       "      <td>https://www.pulse.ng/news/world/an-irresistibl...</td>\n",
       "      <td>pulse.ng</td>\n",
       "      <td>2020-08-12 15:14:19</td>\n",
       "      <td>An irresistible scent makes locusts swarm, stu...</td>\n",
       "      <td>en</td>\n",
       "    </tr>\n",
       "    <tr>\n",
       "      <th>2</th>\n",
       "      <td>SCIENCE</td>\n",
       "      <td>https://www.express.co.uk/news/science/1322607...</td>\n",
       "      <td>express.co.uk</td>\n",
       "      <td>2020-08-13 21:01:00</td>\n",
       "      <td>Artificial intelligence warning: AI will know ...</td>\n",
       "      <td>en</td>\n",
       "    </tr>\n",
       "    <tr>\n",
       "      <th>3</th>\n",
       "      <td>SCIENCE</td>\n",
       "      <td>https://www.ndtv.com/world-news/glaciers-could...</td>\n",
       "      <td>ndtv.com</td>\n",
       "      <td>2020-08-03 22:18:26</td>\n",
       "      <td>Glaciers Could Have Sculpted Mars Valleys: Study</td>\n",
       "      <td>en</td>\n",
       "    </tr>\n",
       "    <tr>\n",
       "      <th>4</th>\n",
       "      <td>SCIENCE</td>\n",
       "      <td>https://www.thesun.ie/tech/5742187/perseid-met...</td>\n",
       "      <td>thesun.ie</td>\n",
       "      <td>2020-08-12 19:54:36</td>\n",
       "      <td>Perseid meteor shower 2020: What time and how ...</td>\n",
       "      <td>en</td>\n",
       "    </tr>\n",
       "  </tbody>\n",
       "</table>\n",
       "</div>"
      ],
      "text/plain": [
       "     topic                                               link          domain  \\\n",
       "0  SCIENCE  https://www.eurekalert.org/pub_releases/2020-0...  eurekalert.org   \n",
       "1  SCIENCE  https://www.pulse.ng/news/world/an-irresistibl...        pulse.ng   \n",
       "2  SCIENCE  https://www.express.co.uk/news/science/1322607...   express.co.uk   \n",
       "3  SCIENCE  https://www.ndtv.com/world-news/glaciers-could...        ndtv.com   \n",
       "4  SCIENCE  https://www.thesun.ie/tech/5742187/perseid-met...       thesun.ie   \n",
       "\n",
       "        published_date                                              title lang  \n",
       "0  2020-08-06 13:59:45  A closer look at water-splitting's solar fuel ...   en  \n",
       "1  2020-08-12 15:14:19  An irresistible scent makes locusts swarm, stu...   en  \n",
       "2  2020-08-13 21:01:00  Artificial intelligence warning: AI will know ...   en  \n",
       "3  2020-08-03 22:18:26   Glaciers Could Have Sculpted Mars Valleys: Study   en  \n",
       "4  2020-08-12 19:54:36  Perseid meteor shower 2020: What time and how ...   en  "
      ]
     },
     "execution_count": 37,
     "metadata": {},
     "output_type": "execute_result"
    }
   ],
   "source": [
    "dataset.head()"
   ]
  },
  {
   "cell_type": "markdown",
   "id": "52c8b8b9",
   "metadata": {},
   "source": [
    "Com es pot observar, la BD està formada per 6 atributs:\n",
    "- topic: \n",
    "- link:\n",
    "- domain: \n",
    "- published_date:\n",
    "- title: \n",
    "- lang:\n",
    "\n",
    "Ningún d'ells té valors null, així que no hem d'eliminar ninguna entrada de la BD"
   ]
  },
  {
   "cell_type": "code",
   "execution_count": 38,
   "id": "6dc5a654",
   "metadata": {},
   "outputs": [
    {
     "name": "stdout",
     "output_type": "stream",
     "text": [
      "2012-09-16 04:44:50\n",
      "2020-08-18 05:49:00\n"
     ]
    }
   ],
   "source": [
    "print (dataset['published_date'].min())\n",
    "print (dataset['published_date'].max())"
   ]
  },
  {
   "cell_type": "code",
   "execution_count": 39,
   "id": "0601d6f5",
   "metadata": {},
   "outputs": [
    {
     "data": {
      "text/plain": [
       "BUSINESS         15000\n",
       "ENTERTAINMENT    15000\n",
       "TECHNOLOGY       15000\n",
       "HEALTH           15000\n",
       "WORLD            15000\n",
       "SPORTS           15000\n",
       "NATION           15000\n",
       "SCIENCE           3774\n",
       "Name: topic, dtype: int64"
      ]
     },
     "execution_count": 39,
     "metadata": {},
     "output_type": "execute_result"
    }
   ],
   "source": [
    "contTopic = dataset['topic'].value_counts()\n",
    "contTopic"
   ]
  },
  {
   "cell_type": "code",
   "execution_count": 40,
   "id": "b2490c91",
   "metadata": {},
   "outputs": [
    {
     "data": {
      "text/plain": [
       "en    108774\n",
       "Name: lang, dtype: int64"
      ]
     },
     "execution_count": 40,
     "metadata": {},
     "output_type": "execute_result"
    }
   ],
   "source": [
    "contLang = dataset['lang'].value_counts()\n",
    "contLang"
   ]
  },
  {
   "cell_type": "code",
   "execution_count": 41,
   "id": "c9f16cda",
   "metadata": {},
   "outputs": [
    {
     "data": {
      "text/html": [
       "<div>\n",
       "<style scoped>\n",
       "    .dataframe tbody tr th:only-of-type {\n",
       "        vertical-align: middle;\n",
       "    }\n",
       "\n",
       "    .dataframe tbody tr th {\n",
       "        vertical-align: top;\n",
       "    }\n",
       "\n",
       "    .dataframe thead th {\n",
       "        text-align: right;\n",
       "    }\n",
       "</style>\n",
       "<table border=\"1\" class=\"dataframe\">\n",
       "  <thead>\n",
       "    <tr style=\"text-align: right;\">\n",
       "      <th></th>\n",
       "      <th>topic</th>\n",
       "      <th>link</th>\n",
       "      <th>domain</th>\n",
       "      <th>published_date</th>\n",
       "      <th>title</th>\n",
       "      <th>lang</th>\n",
       "    </tr>\n",
       "  </thead>\n",
       "  <tbody>\n",
       "    <tr>\n",
       "      <th>count</th>\n",
       "      <td>108774</td>\n",
       "      <td>108774</td>\n",
       "      <td>108774</td>\n",
       "      <td>108774</td>\n",
       "      <td>108774</td>\n",
       "      <td>108774</td>\n",
       "    </tr>\n",
       "    <tr>\n",
       "      <th>unique</th>\n",
       "      <td>8</td>\n",
       "      <td>106130</td>\n",
       "      <td>5164</td>\n",
       "      <td>68743</td>\n",
       "      <td>103180</td>\n",
       "      <td>1</td>\n",
       "    </tr>\n",
       "    <tr>\n",
       "      <th>top</th>\n",
       "      <td>BUSINESS</td>\n",
       "      <td>https://www.google.com/</td>\n",
       "      <td>dailymail.co.uk</td>\n",
       "      <td>2020-08-04 01:00:00</td>\n",
       "      <td>US tops 5 million confirmed virus cases, to Eu...</td>\n",
       "      <td>en</td>\n",
       "    </tr>\n",
       "    <tr>\n",
       "      <th>freq</th>\n",
       "      <td>15000</td>\n",
       "      <td>19</td>\n",
       "      <td>1855</td>\n",
       "      <td>41</td>\n",
       "      <td>21</td>\n",
       "      <td>108774</td>\n",
       "    </tr>\n",
       "  </tbody>\n",
       "</table>\n",
       "</div>"
      ],
      "text/plain": [
       "           topic                     link           domain  \\\n",
       "count     108774                   108774           108774   \n",
       "unique         8                   106130             5164   \n",
       "top     BUSINESS  https://www.google.com/  dailymail.co.uk   \n",
       "freq       15000                       19             1855   \n",
       "\n",
       "             published_date  \\\n",
       "count                108774   \n",
       "unique                68743   \n",
       "top     2020-08-04 01:00:00   \n",
       "freq                     41   \n",
       "\n",
       "                                                    title    lang  \n",
       "count                                              108774  108774  \n",
       "unique                                             103180       1  \n",
       "top     US tops 5 million confirmed virus cases, to Eu...      en  \n",
       "freq                                                   21  108774  "
      ]
     },
     "execution_count": 41,
     "metadata": {},
     "output_type": "execute_result"
    }
   ],
   "source": [
    "dataset.describe()"
   ]
  },
  {
   "cell_type": "markdown",
   "id": "4d7a3177",
   "metadata": {},
   "source": [
    "Podem observar com hi han 8 topics diferents, 7 d'ells consten de 15000 entrades en la BD i 1 d'ells (el de SCIENCE) 3774, també podem observar que tots els articles estàn en Anglés, així que utilitzar el idioma en el recommenador no serà una opció."
   ]
  },
  {
   "cell_type": "markdown",
   "id": "b5b55711",
   "metadata": {},
   "source": [
    "He decidit que els millors atributs de la BD per fer una recommenació seran el de topic, ja que hi ha varietat i normalment si estàs llegint un article d'esports voldràs que et recommanin un d'esports i no un de tecnologia o de ciéncies. I l'altre atribut que utilitzaré serà el titol. Descarto el de links, el domini, el de l'idioma i la data de publicació."
   ]
  },
  {
   "cell_type": "code",
   "execution_count": 45,
   "id": "67c09b09",
   "metadata": {},
   "outputs": [],
   "source": [
    "dataset['title'] = dataset['title'].apply(lambda x: remove_stopwords(x))"
   ]
  },
  {
   "cell_type": "code",
   "execution_count": 46,
   "id": "98eabad1",
   "metadata": {},
   "outputs": [
    {
     "data": {
      "text/plain": [
       "0    A closer look water-splitting's solar fuel pot...\n",
       "1    An irresistible scent makes locusts swarm, stu...\n",
       "2    Artificial intelligence warning: AI know bette...\n",
       "3     Glaciers Could Have Sculpted Mars Valleys: Study\n",
       "4    Perseid meteor shower 2020: What time huge bri...\n",
       "Name: title, dtype: object"
      ]
     },
     "execution_count": 46,
     "metadata": {},
     "output_type": "execute_result"
    }
   ],
   "source": [
    "dataset['title'].head()"
   ]
  },
  {
   "cell_type": "code",
   "execution_count": null,
   "id": "dcd7f4ef",
   "metadata": {},
   "outputs": [],
   "source": []
  },
  {
   "cell_type": "code",
   "execution_count": 43,
   "id": "de3d32d1",
   "metadata": {},
   "outputs": [
    {
     "data": {
      "text/plain": [
       "0.7942541944380602"
      ]
     },
     "execution_count": 43,
     "metadata": {},
     "output_type": "execute_result"
    }
   ],
   "source": [
    "# Dividim dades d'entrenament\n",
    "x_train, x_test, y_train, y_test = train_test_split(dataset['title'], dataset['topic'], test_size=0.2, random_state=0)\n",
    "\n",
    "\n",
    "\n",
    "from sklearn.pipeline import Pipeline\n",
    "text_clf = Pipeline([('vect', CountVectorizer()),\n",
    "                      ('tfidf', TfidfTransformer()),\n",
    "                      ('clf', MultinomialNB()),\n",
    "])\n",
    "text_clf = text_clf.fit(x_train, y_train)\n",
    "\n",
    "predicted = text_clf.predict(x_test)\n",
    "np.mean(predicted == y_test)\n"
   ]
  },
  {
   "cell_type": "code",
   "execution_count": null,
   "id": "c9374a99",
   "metadata": {},
   "outputs": [],
   "source": []
  },
  {
   "cell_type": "code",
   "execution_count": null,
   "id": "49b9ef00",
   "metadata": {},
   "outputs": [],
   "source": []
  },
  {
   "cell_type": "code",
   "execution_count": null,
   "id": "5270f6ea",
   "metadata": {},
   "outputs": [],
   "source": []
  },
  {
   "cell_type": "code",
   "execution_count": null,
   "id": "44fc15d3",
   "metadata": {},
   "outputs": [],
   "source": [
    "\n",
    "#print (\"Correct classification SVM: \", svc.score(x_test, y_test))\n",
    "\n",
    "\n",
    "\n",
    "from sklearn.pipeline import Pipeline\n",
    "text_clf = Pipeline([('vect', CountVectorizer()),\n",
    "                      ('tfidf', TfidfTransformer()),\n",
    "                      ('svc', svm.SVC(C=0.01, kernel='linear', gamma=0.9, probability=True)),\n",
    "])\n",
    "text_clf = text_clf.fit(x_train, y_train)\n",
    "\n",
    "predicted = text_clf.predict(x_test)\n",
    "np.mean(predicted == y_test)"
   ]
  },
  {
   "cell_type": "code",
   "execution_count": null,
   "id": "98aa1c02",
   "metadata": {},
   "outputs": [],
   "source": []
  }
 ],
 "metadata": {
  "kernelspec": {
   "display_name": "Python 3",
   "language": "python",
   "name": "python3"
  },
  "language_info": {
   "codemirror_mode": {
    "name": "ipython",
    "version": 3
   },
   "file_extension": ".py",
   "mimetype": "text/x-python",
   "name": "python",
   "nbconvert_exporter": "python",
   "pygments_lexer": "ipython3",
   "version": "3.8.8"
  }
 },
 "nbformat": 4,
 "nbformat_minor": 5
}
